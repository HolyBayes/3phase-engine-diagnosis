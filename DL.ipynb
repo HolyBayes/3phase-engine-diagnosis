{
 "cells": [
  {
   "cell_type": "code",
   "execution_count": 7,
   "id": "84414ee5",
   "metadata": {},
   "outputs": [],
   "source": [
    "from torch.utils.data import Dataset, DataLoader\n",
    "import numpy as np\n",
    "from src import detection\n",
    "import noisereduce as nr\n",
    "from src.utils import data\n",
    "from engine_configs import CONFIGS\n",
    "\n",
    "\n",
    "class EngineDataset(Dataset):\n",
    "    def __init__(self, dataset_paths, config, batch_size, reduce_noise=True,\n",
    "                  cut_freq_Hz=200, train=None, test_fraction=0.5, \n",
    "                 hanning_size=None, window_size_seconds=2):\n",
    "        super().__init__()\n",
    "        self.batch_size = batch_size\n",
    "        self.config = config\n",
    "        self.dataset_paths = dataset_paths\n",
    "        self.reduce_noise = reduce_noise\n",
    "        self.cut_freq_Hz = cut_freq_Hz\n",
    "        self.hanning_size = hanning_size\n",
    "        self.window_size_seconds = window_size_seconds\n",
    "        \n",
    "        self.anomaly_names = ['no anomalies']\n",
    "        self.anomaly_freqs = []\n",
    "        for anomaly_idx, anomaly_name in enumerate(sorted(detection.ANOMALIES_FREQS.keys())):\n",
    "            self.anomaly_names.append(anomaly_name)\n",
    "            anomaly_freqs = [f for f in detection.ANOMALIES_FREQS[anomaly_name](config) if 0<f<self.cut_freq_Hz]\n",
    "            embeddings = np.zeros(cut_freq_Hz*window_size_seconds)\n",
    "            freqs = np.linspace(0, cut_freq_Hz, cut_freq_Hz*window_size_seconds)\n",
    "            for f in anomaly_freqs:\n",
    "                embeddings[min(np.arange(freqs.shape[0]), key=lambda i:abs(f-freqs[i]))] = 1\n",
    "            self.anomaly_freqs.append(embeddings)\n",
    "        self.anomaly_freqs = np.array(self.anomaly_freqs)\n",
    "        self.datasets = {}\n",
    "        for anomaly_type, datasets in dataset_paths.items():\n",
    "            dfs = []\n",
    "            for dataset_path in datasets:\n",
    "                try:\n",
    "                    df = data.read(dataset_path)\n",
    "                except:\n",
    "                    continue\n",
    "                if train==True:\n",
    "                    to = int((1-test_fraction)*df.shape[0])\n",
    "                    df = df.iloc[:to].reset_index(drop=True)\n",
    "                    df.time -= df.time.min()\n",
    "                elif train==False:\n",
    "                    to = int((1-test_fraction)*df.shape[0])\n",
    "                    df = df.iloc[to:].reset_index(drop=True)\n",
    "                    df.time -= df.time.min()\n",
    "                dfs.append(df)\n",
    "            self.datasets[anomaly_type] = dfs\n",
    "    \n",
    "    def __len__(self):\n",
    "        return self.batch_size\n",
    "    \n",
    "    def __getitem__(self, idx):\n",
    "        label = np.random.choice(list(self.datasets.keys()))\n",
    "        label_index = self.anomaly_names.index(label)\n",
    "        df = self.datasets[label][np.random.choice(np.arange(len(self.datasets[label])))]\n",
    "        if self.window_size_seconds:\n",
    "            df = data.get_random_window(df, self.window_size_seconds)\n",
    "        if self.hanning_size:\n",
    "            df.value = np.convolve(df.value, np.hanning(self.hanning_size))[:df.shape[0]]\n",
    "        if self.reduce_noise:\n",
    "            df.value = nr.reduce_noise(df.value, int(self.config['f_sampling']),\n",
    "                                       freq_mask_smooth_hz=self.cut_freq_Hz)\n",
    "        yf, freqs = data.time_to_freq_transform(df, self.config)\n",
    "        mask = freqs < self.cut_freq_Hz\n",
    "        freqs, yf = [x[mask] for x in [freqs, yf]]\n",
    "        yf = (yf - 40)/80\n",
    "        return np.concatenate((np.expand_dims(yf, 0), self.anomaly_freqs), 0), label_index, label\n",
    "        "
   ]
  },
  {
   "cell_type": "code",
   "execution_count": 8,
   "id": "2f8b42f0",
   "metadata": {},
   "outputs": [],
   "source": [
    "train_files = {\n",
    "    'no anomalies': ['data/0702 без перекосов фаза A.txt', 'data/ВКЛ-ВЫКЛ нагрузка 100% 11 01.txt',\n",
    "                     'data/холостой ход 11 01.txt', 'data/нагрузка 100% 11 01.txt'],\n",
    "    'inter-cell shortages': ['data/0702  межвитковые фазы A ток фазы А.txt'],\n",
    "    'unknown mechanical defect': ['data/20_01_1460_об_мин_с_дисбалансом_ротора.txt'],\n",
    "}\n",
    "\n",
    "test_files = train_files\n",
    "\n",
    "# from glob import glob\n",
    "# from collections import defaultdict\n",
    "# train_files = defaultdict(list)\n",
    "# for filename in glob('data/*.txt'):\n",
    "#     if filename in [x for y in test_files.values() for x in y]: continue\n",
    "#     if not filename.split('/')[1].startswith('21'): continue\n",
    "#     if \"дисбаланс\" in filename:\n",
    "#         train_files['unknown mechanical defect'].append(filename)\n",
    "#     else:\n",
    "#         train_files['no anomalies'].append(filename)\n",
    "# train_files"
   ]
  },
  {
   "cell_type": "code",
   "execution_count": 9,
   "id": "fa9e3e1e",
   "metadata": {},
   "outputs": [],
   "source": [
    "batch_size = 32\n",
    "train_dataset = EngineDataset(train_files, CONFIGS['Liman'], batch_size, train=True)\n",
    "test_dataset = EngineDataset(test_files, CONFIGS['Liman'], batch_size, train=False)\n",
    "train_loader = DataLoader(train_dataset, batch_size=batch_size)\n",
    "test_loader = DataLoader(test_dataset, batch_size=batch_size)"
   ]
  },
  {
   "cell_type": "code",
   "execution_count": 10,
   "id": "93286f79",
   "metadata": {},
   "outputs": [
    {
     "ename": "ValueError",
     "evalue": "all the input array dimensions except for the concatenation axis must match exactly, but along dimension 1, the array at index 0 has size 1 and the array at index 1 has size 400",
     "output_type": "error",
     "traceback": [
      "\u001b[0;31m---------------------------------------------------------------------------\u001b[0m",
      "\u001b[0;31mValueError\u001b[0m                                Traceback (most recent call last)",
      "Cell \u001b[0;32mIn[10], line 1\u001b[0m\n\u001b[0;32m----> 1\u001b[0m batch \u001b[38;5;241m=\u001b[39m \u001b[38;5;28;43mnext\u001b[39;49m\u001b[43m(\u001b[49m\u001b[38;5;28;43miter\u001b[39;49m\u001b[43m(\u001b[49m\u001b[43mtrain_loader\u001b[49m\u001b[43m)\u001b[49m\u001b[43m)\u001b[49m[\u001b[38;5;241m0\u001b[39m]\n",
      "File \u001b[0;32m~/miniforge3/envs/dl/lib/python3.8/site-packages/torch/utils/data/dataloader.py:634\u001b[0m, in \u001b[0;36m_BaseDataLoaderIter.__next__\u001b[0;34m(self)\u001b[0m\n\u001b[1;32m    631\u001b[0m \u001b[38;5;28;01mif\u001b[39;00m \u001b[38;5;28mself\u001b[39m\u001b[38;5;241m.\u001b[39m_sampler_iter \u001b[38;5;129;01mis\u001b[39;00m \u001b[38;5;28;01mNone\u001b[39;00m:\n\u001b[1;32m    632\u001b[0m     \u001b[38;5;66;03m# TODO(https://github.com/pytorch/pytorch/issues/76750)\u001b[39;00m\n\u001b[1;32m    633\u001b[0m     \u001b[38;5;28mself\u001b[39m\u001b[38;5;241m.\u001b[39m_reset()  \u001b[38;5;66;03m# type: ignore[call-arg]\u001b[39;00m\n\u001b[0;32m--> 634\u001b[0m data \u001b[38;5;241m=\u001b[39m \u001b[38;5;28;43mself\u001b[39;49m\u001b[38;5;241;43m.\u001b[39;49m\u001b[43m_next_data\u001b[49m\u001b[43m(\u001b[49m\u001b[43m)\u001b[49m\n\u001b[1;32m    635\u001b[0m \u001b[38;5;28mself\u001b[39m\u001b[38;5;241m.\u001b[39m_num_yielded \u001b[38;5;241m+\u001b[39m\u001b[38;5;241m=\u001b[39m \u001b[38;5;241m1\u001b[39m\n\u001b[1;32m    636\u001b[0m \u001b[38;5;28;01mif\u001b[39;00m \u001b[38;5;28mself\u001b[39m\u001b[38;5;241m.\u001b[39m_dataset_kind \u001b[38;5;241m==\u001b[39m _DatasetKind\u001b[38;5;241m.\u001b[39mIterable \u001b[38;5;129;01mand\u001b[39;00m \\\n\u001b[1;32m    637\u001b[0m         \u001b[38;5;28mself\u001b[39m\u001b[38;5;241m.\u001b[39m_IterableDataset_len_called \u001b[38;5;129;01mis\u001b[39;00m \u001b[38;5;129;01mnot\u001b[39;00m \u001b[38;5;28;01mNone\u001b[39;00m \u001b[38;5;129;01mand\u001b[39;00m \\\n\u001b[1;32m    638\u001b[0m         \u001b[38;5;28mself\u001b[39m\u001b[38;5;241m.\u001b[39m_num_yielded \u001b[38;5;241m>\u001b[39m \u001b[38;5;28mself\u001b[39m\u001b[38;5;241m.\u001b[39m_IterableDataset_len_called:\n",
      "File \u001b[0;32m~/miniforge3/envs/dl/lib/python3.8/site-packages/torch/utils/data/dataloader.py:678\u001b[0m, in \u001b[0;36m_SingleProcessDataLoaderIter._next_data\u001b[0;34m(self)\u001b[0m\n\u001b[1;32m    676\u001b[0m \u001b[38;5;28;01mdef\u001b[39;00m \u001b[38;5;21m_next_data\u001b[39m(\u001b[38;5;28mself\u001b[39m):\n\u001b[1;32m    677\u001b[0m     index \u001b[38;5;241m=\u001b[39m \u001b[38;5;28mself\u001b[39m\u001b[38;5;241m.\u001b[39m_next_index()  \u001b[38;5;66;03m# may raise StopIteration\u001b[39;00m\n\u001b[0;32m--> 678\u001b[0m     data \u001b[38;5;241m=\u001b[39m \u001b[38;5;28;43mself\u001b[39;49m\u001b[38;5;241;43m.\u001b[39;49m\u001b[43m_dataset_fetcher\u001b[49m\u001b[38;5;241;43m.\u001b[39;49m\u001b[43mfetch\u001b[49m\u001b[43m(\u001b[49m\u001b[43mindex\u001b[49m\u001b[43m)\u001b[49m  \u001b[38;5;66;03m# may raise StopIteration\u001b[39;00m\n\u001b[1;32m    679\u001b[0m     \u001b[38;5;28;01mif\u001b[39;00m \u001b[38;5;28mself\u001b[39m\u001b[38;5;241m.\u001b[39m_pin_memory:\n\u001b[1;32m    680\u001b[0m         data \u001b[38;5;241m=\u001b[39m _utils\u001b[38;5;241m.\u001b[39mpin_memory\u001b[38;5;241m.\u001b[39mpin_memory(data, \u001b[38;5;28mself\u001b[39m\u001b[38;5;241m.\u001b[39m_pin_memory_device)\n",
      "File \u001b[0;32m~/miniforge3/envs/dl/lib/python3.8/site-packages/torch/utils/data/_utils/fetch.py:51\u001b[0m, in \u001b[0;36m_MapDatasetFetcher.fetch\u001b[0;34m(self, possibly_batched_index)\u001b[0m\n\u001b[1;32m     49\u001b[0m         data \u001b[38;5;241m=\u001b[39m \u001b[38;5;28mself\u001b[39m\u001b[38;5;241m.\u001b[39mdataset\u001b[38;5;241m.\u001b[39m__getitems__(possibly_batched_index)\n\u001b[1;32m     50\u001b[0m     \u001b[38;5;28;01melse\u001b[39;00m:\n\u001b[0;32m---> 51\u001b[0m         data \u001b[38;5;241m=\u001b[39m [\u001b[38;5;28mself\u001b[39m\u001b[38;5;241m.\u001b[39mdataset[idx] \u001b[38;5;28;01mfor\u001b[39;00m idx \u001b[38;5;129;01min\u001b[39;00m possibly_batched_index]\n\u001b[1;32m     52\u001b[0m \u001b[38;5;28;01melse\u001b[39;00m:\n\u001b[1;32m     53\u001b[0m     data \u001b[38;5;241m=\u001b[39m \u001b[38;5;28mself\u001b[39m\u001b[38;5;241m.\u001b[39mdataset[possibly_batched_index]\n",
      "File \u001b[0;32m~/miniforge3/envs/dl/lib/python3.8/site-packages/torch/utils/data/_utils/fetch.py:51\u001b[0m, in \u001b[0;36m<listcomp>\u001b[0;34m(.0)\u001b[0m\n\u001b[1;32m     49\u001b[0m         data \u001b[38;5;241m=\u001b[39m \u001b[38;5;28mself\u001b[39m\u001b[38;5;241m.\u001b[39mdataset\u001b[38;5;241m.\u001b[39m__getitems__(possibly_batched_index)\n\u001b[1;32m     50\u001b[0m     \u001b[38;5;28;01melse\u001b[39;00m:\n\u001b[0;32m---> 51\u001b[0m         data \u001b[38;5;241m=\u001b[39m [\u001b[38;5;28;43mself\u001b[39;49m\u001b[38;5;241;43m.\u001b[39;49m\u001b[43mdataset\u001b[49m\u001b[43m[\u001b[49m\u001b[43midx\u001b[49m\u001b[43m]\u001b[49m \u001b[38;5;28;01mfor\u001b[39;00m idx \u001b[38;5;129;01min\u001b[39;00m possibly_batched_index]\n\u001b[1;32m     52\u001b[0m \u001b[38;5;28;01melse\u001b[39;00m:\n\u001b[1;32m     53\u001b[0m     data \u001b[38;5;241m=\u001b[39m \u001b[38;5;28mself\u001b[39m\u001b[38;5;241m.\u001b[39mdataset[possibly_batched_index]\n",
      "Cell \u001b[0;32mIn[7], line 70\u001b[0m, in \u001b[0;36mEngineDataset.__getitem__\u001b[0;34m(self, idx)\u001b[0m\n\u001b[1;32m     68\u001b[0m freqs, yf \u001b[38;5;241m=\u001b[39m [x[mask] \u001b[38;5;28;01mfor\u001b[39;00m x \u001b[38;5;129;01min\u001b[39;00m [freqs, yf]]\n\u001b[1;32m     69\u001b[0m yf \u001b[38;5;241m=\u001b[39m (yf \u001b[38;5;241m-\u001b[39m \u001b[38;5;241m40\u001b[39m)\u001b[38;5;241m/\u001b[39m\u001b[38;5;241m80\u001b[39m\n\u001b[0;32m---> 70\u001b[0m \u001b[38;5;28;01mreturn\u001b[39;00m \u001b[43mnp\u001b[49m\u001b[38;5;241;43m.\u001b[39;49m\u001b[43mconcatenate\u001b[49m\u001b[43m(\u001b[49m\u001b[43m(\u001b[49m\u001b[43mnp\u001b[49m\u001b[38;5;241;43m.\u001b[39;49m\u001b[43mexpand_dims\u001b[49m\u001b[43m(\u001b[49m\u001b[43myf\u001b[49m\u001b[43m,\u001b[49m\u001b[43m \u001b[49m\u001b[38;5;241;43m0\u001b[39;49m\u001b[43m)\u001b[49m\u001b[43m,\u001b[49m\u001b[43m \u001b[49m\u001b[38;5;28;43mself\u001b[39;49m\u001b[38;5;241;43m.\u001b[39;49m\u001b[43manomaly_freqs\u001b[49m\u001b[43m)\u001b[49m\u001b[43m,\u001b[49m\u001b[43m \u001b[49m\u001b[38;5;241;43m0\u001b[39;49m\u001b[43m)\u001b[49m, label_index, label\n",
      "File \u001b[0;32m<__array_function__ internals>:200\u001b[0m, in \u001b[0;36mconcatenate\u001b[0;34m(*args, **kwargs)\u001b[0m\n",
      "\u001b[0;31mValueError\u001b[0m: all the input array dimensions except for the concatenation axis must match exactly, but along dimension 1, the array at index 0 has size 1 and the array at index 1 has size 400"
     ]
    }
   ],
   "source": [
    "batch = next(iter(train_loader))[0]"
   ]
  },
  {
   "cell_type": "code",
   "execution_count": null,
   "id": "a20b4abd",
   "metadata": {},
   "outputs": [],
   "source": [
    "batch = next(iter(test_loader))[0]"
   ]
  },
  {
   "cell_type": "code",
   "execution_count": 6,
   "id": "2f6f1e48",
   "metadata": {},
   "outputs": [
    {
     "data": {
      "text/plain": [
       "Sequential(\n",
       "  (0): Conv1d(8, 16, kernel_size=(5,), stride=(1,))\n",
       "  (1): Softplus(beta=1, threshold=20)\n",
       "  (2): BatchNorm1d(16, eps=1e-05, momentum=0.1, affine=True, track_running_stats=True)\n",
       "  (3): Conv1d(16, 32, kernel_size=(5,), stride=(1,))\n",
       "  (4): Softplus(beta=1, threshold=20)\n",
       "  (5): BatchNorm1d(32, eps=1e-05, momentum=0.1, affine=True, track_running_stats=True)\n",
       "  (6): Conv1d(32, 64, kernel_size=(5,), stride=(1,))\n",
       "  (7): Softplus(beta=1, threshold=20)\n",
       "  (8): BatchNorm1d(64, eps=1e-05, momentum=0.1, affine=True, track_running_stats=True)\n",
       "  (9): Conv1d(64, 64, kernel_size=(3,), stride=(1,))\n",
       "  (10): Softplus(beta=1, threshold=20)\n",
       "  (11): AdaptiveAvgPool1d(output_size=1)\n",
       "  (12): Reshape()\n",
       "  (13): Linear(in_features=64, out_features=8, bias=True)\n",
       ")"
      ]
     },
     "execution_count": 6,
     "metadata": {},
     "output_type": "execute_result"
    }
   ],
   "source": [
    "from torch import nn\n",
    "import torch\n",
    "\n",
    "class Reshape(nn.Module):\n",
    "    def __init__(self, *args):\n",
    "        super(Reshape, self).__init__()\n",
    "        self.shape = args\n",
    "\n",
    "    def forward(self, x):\n",
    "        return x.view(self.shape)\n",
    "\n",
    "model = nn.Sequential(\n",
    "    nn.Conv1d(8, 16, 5),\n",
    "    nn.Softplus(),\n",
    "    nn.BatchNorm1d(16),\n",
    "    \n",
    "    nn.Conv1d(16, 32, 5),\n",
    "    nn.Softplus(),\n",
    "    nn.BatchNorm1d(32),\n",
    "    \n",
    "    nn.Conv1d(32, 64, 5),\n",
    "    nn.Softplus(),\n",
    "    nn.BatchNorm1d(64),\n",
    "    \n",
    "    nn.Conv1d(64, 64, 3),\n",
    "    nn.Softplus(),\n",
    "    nn.AdaptiveAvgPool1d(1),\n",
    "    Reshape(-1, 64),\n",
    "    \n",
    "    nn.Linear(64, 8)\n",
    ")\n",
    "device = torch.device('cuda' if torch.cuda.is_available() else \"cpu\")\n",
    "model.to(device)"
   ]
  },
  {
   "cell_type": "markdown",
   "id": "32c2fe9c",
   "metadata": {},
   "source": [
    "# Train"
   ]
  },
  {
   "cell_type": "code",
   "execution_count": 7,
   "id": "bc790dfc",
   "metadata": {},
   "outputs": [
    {
     "name": "stderr",
     "output_type": "stream",
     "text": [
      "Loss:  0.018\t Test acc:  0.836\t Best acc:  0.958:  45%|▍| 4531/10000 [2:04:15<2:\n"
     ]
    },
    {
     "ename": "KeyboardInterrupt",
     "evalue": "",
     "output_type": "error",
     "traceback": [
      "\u001b[0;31m---------------------------------------------------------------------------\u001b[0m",
      "\u001b[0;31mKeyboardInterrupt\u001b[0m                         Traceback (most recent call last)",
      "Cell \u001b[0;32mIn[7], line 12\u001b[0m\n\u001b[1;32m     10\u001b[0m tbar \u001b[38;5;241m=\u001b[39m tqdm(\u001b[38;5;28mrange\u001b[39m(n_epoches), total\u001b[38;5;241m=\u001b[39mn_epoches, desc\u001b[38;5;241m=\u001b[39m\u001b[38;5;124m'\u001b[39m\u001b[38;5;124m?\u001b[39m\u001b[38;5;124m'\u001b[39m)\n\u001b[1;32m     11\u001b[0m \u001b[38;5;28;01mfor\u001b[39;00m epoch \u001b[38;5;129;01min\u001b[39;00m tbar:\n\u001b[0;32m---> 12\u001b[0m     batch_X, y_true, _ \u001b[38;5;241m=\u001b[39m \u001b[38;5;28;43mnext\u001b[39;49m\u001b[43m(\u001b[49m\u001b[38;5;28;43miter\u001b[39;49m\u001b[43m(\u001b[49m\u001b[43mtrain_loader\u001b[49m\u001b[43m)\u001b[49m\u001b[43m)\u001b[49m\n\u001b[1;32m     13\u001b[0m     batch_X, y_true \u001b[38;5;241m=\u001b[39m [x\u001b[38;5;241m.\u001b[39mfloat()\u001b[38;5;241m.\u001b[39mto(device) \u001b[38;5;28;01mfor\u001b[39;00m x \u001b[38;5;129;01min\u001b[39;00m [batch_X, y_true]]\n\u001b[1;32m     14\u001b[0m     y_pred \u001b[38;5;241m=\u001b[39m model(batch_X)\n",
      "File \u001b[0;32m~/anaconda3/envs/dl/lib/python3.9/site-packages/torch/utils/data/dataloader.py:628\u001b[0m, in \u001b[0;36m_BaseDataLoaderIter.__next__\u001b[0;34m(self)\u001b[0m\n\u001b[1;32m    625\u001b[0m \u001b[38;5;28;01mif\u001b[39;00m \u001b[38;5;28mself\u001b[39m\u001b[38;5;241m.\u001b[39m_sampler_iter \u001b[38;5;129;01mis\u001b[39;00m \u001b[38;5;28;01mNone\u001b[39;00m:\n\u001b[1;32m    626\u001b[0m     \u001b[38;5;66;03m# TODO(https://github.com/pytorch/pytorch/issues/76750)\u001b[39;00m\n\u001b[1;32m    627\u001b[0m     \u001b[38;5;28mself\u001b[39m\u001b[38;5;241m.\u001b[39m_reset()  \u001b[38;5;66;03m# type: ignore[call-arg]\u001b[39;00m\n\u001b[0;32m--> 628\u001b[0m data \u001b[38;5;241m=\u001b[39m \u001b[38;5;28;43mself\u001b[39;49m\u001b[38;5;241;43m.\u001b[39;49m\u001b[43m_next_data\u001b[49m\u001b[43m(\u001b[49m\u001b[43m)\u001b[49m\n\u001b[1;32m    629\u001b[0m \u001b[38;5;28mself\u001b[39m\u001b[38;5;241m.\u001b[39m_num_yielded \u001b[38;5;241m+\u001b[39m\u001b[38;5;241m=\u001b[39m \u001b[38;5;241m1\u001b[39m\n\u001b[1;32m    630\u001b[0m \u001b[38;5;28;01mif\u001b[39;00m \u001b[38;5;28mself\u001b[39m\u001b[38;5;241m.\u001b[39m_dataset_kind \u001b[38;5;241m==\u001b[39m _DatasetKind\u001b[38;5;241m.\u001b[39mIterable \u001b[38;5;129;01mand\u001b[39;00m \\\n\u001b[1;32m    631\u001b[0m         \u001b[38;5;28mself\u001b[39m\u001b[38;5;241m.\u001b[39m_IterableDataset_len_called \u001b[38;5;129;01mis\u001b[39;00m \u001b[38;5;129;01mnot\u001b[39;00m \u001b[38;5;28;01mNone\u001b[39;00m \u001b[38;5;129;01mand\u001b[39;00m \\\n\u001b[1;32m    632\u001b[0m         \u001b[38;5;28mself\u001b[39m\u001b[38;5;241m.\u001b[39m_num_yielded \u001b[38;5;241m>\u001b[39m \u001b[38;5;28mself\u001b[39m\u001b[38;5;241m.\u001b[39m_IterableDataset_len_called:\n",
      "File \u001b[0;32m~/anaconda3/envs/dl/lib/python3.9/site-packages/torch/utils/data/dataloader.py:671\u001b[0m, in \u001b[0;36m_SingleProcessDataLoaderIter._next_data\u001b[0;34m(self)\u001b[0m\n\u001b[1;32m    669\u001b[0m \u001b[38;5;28;01mdef\u001b[39;00m \u001b[38;5;21m_next_data\u001b[39m(\u001b[38;5;28mself\u001b[39m):\n\u001b[1;32m    670\u001b[0m     index \u001b[38;5;241m=\u001b[39m \u001b[38;5;28mself\u001b[39m\u001b[38;5;241m.\u001b[39m_next_index()  \u001b[38;5;66;03m# may raise StopIteration\u001b[39;00m\n\u001b[0;32m--> 671\u001b[0m     data \u001b[38;5;241m=\u001b[39m \u001b[38;5;28;43mself\u001b[39;49m\u001b[38;5;241;43m.\u001b[39;49m\u001b[43m_dataset_fetcher\u001b[49m\u001b[38;5;241;43m.\u001b[39;49m\u001b[43mfetch\u001b[49m\u001b[43m(\u001b[49m\u001b[43mindex\u001b[49m\u001b[43m)\u001b[49m  \u001b[38;5;66;03m# may raise StopIteration\u001b[39;00m\n\u001b[1;32m    672\u001b[0m     \u001b[38;5;28;01mif\u001b[39;00m \u001b[38;5;28mself\u001b[39m\u001b[38;5;241m.\u001b[39m_pin_memory:\n\u001b[1;32m    673\u001b[0m         data \u001b[38;5;241m=\u001b[39m _utils\u001b[38;5;241m.\u001b[39mpin_memory\u001b[38;5;241m.\u001b[39mpin_memory(data, \u001b[38;5;28mself\u001b[39m\u001b[38;5;241m.\u001b[39m_pin_memory_device)\n",
      "File \u001b[0;32m~/anaconda3/envs/dl/lib/python3.9/site-packages/torch/utils/data/_utils/fetch.py:58\u001b[0m, in \u001b[0;36m_MapDatasetFetcher.fetch\u001b[0;34m(self, possibly_batched_index)\u001b[0m\n\u001b[1;32m     56\u001b[0m         data \u001b[38;5;241m=\u001b[39m \u001b[38;5;28mself\u001b[39m\u001b[38;5;241m.\u001b[39mdataset\u001b[38;5;241m.\u001b[39m__getitems__(possibly_batched_index)\n\u001b[1;32m     57\u001b[0m     \u001b[38;5;28;01melse\u001b[39;00m:\n\u001b[0;32m---> 58\u001b[0m         data \u001b[38;5;241m=\u001b[39m [\u001b[38;5;28mself\u001b[39m\u001b[38;5;241m.\u001b[39mdataset[idx] \u001b[38;5;28;01mfor\u001b[39;00m idx \u001b[38;5;129;01min\u001b[39;00m possibly_batched_index]\n\u001b[1;32m     59\u001b[0m \u001b[38;5;28;01melse\u001b[39;00m:\n\u001b[1;32m     60\u001b[0m     data \u001b[38;5;241m=\u001b[39m \u001b[38;5;28mself\u001b[39m\u001b[38;5;241m.\u001b[39mdataset[possibly_batched_index]\n",
      "File \u001b[0;32m~/anaconda3/envs/dl/lib/python3.9/site-packages/torch/utils/data/_utils/fetch.py:58\u001b[0m, in \u001b[0;36m<listcomp>\u001b[0;34m(.0)\u001b[0m\n\u001b[1;32m     56\u001b[0m         data \u001b[38;5;241m=\u001b[39m \u001b[38;5;28mself\u001b[39m\u001b[38;5;241m.\u001b[39mdataset\u001b[38;5;241m.\u001b[39m__getitems__(possibly_batched_index)\n\u001b[1;32m     57\u001b[0m     \u001b[38;5;28;01melse\u001b[39;00m:\n\u001b[0;32m---> 58\u001b[0m         data \u001b[38;5;241m=\u001b[39m [\u001b[38;5;28;43mself\u001b[39;49m\u001b[38;5;241;43m.\u001b[39;49m\u001b[43mdataset\u001b[49m\u001b[43m[\u001b[49m\u001b[43midx\u001b[49m\u001b[43m]\u001b[49m \u001b[38;5;28;01mfor\u001b[39;00m idx \u001b[38;5;129;01min\u001b[39;00m possibly_batched_index]\n\u001b[1;32m     59\u001b[0m \u001b[38;5;28;01melse\u001b[39;00m:\n\u001b[1;32m     60\u001b[0m     data \u001b[38;5;241m=\u001b[39m \u001b[38;5;28mself\u001b[39m\u001b[38;5;241m.\u001b[39mdataset[possibly_batched_index]\n",
      "Cell \u001b[0;32mIn[1], line 64\u001b[0m, in \u001b[0;36mEngineDataset.__getitem__\u001b[0;34m(self, idx)\u001b[0m\n\u001b[1;32m     62\u001b[0m     df\u001b[38;5;241m.\u001b[39mvalue \u001b[38;5;241m=\u001b[39m np\u001b[38;5;241m.\u001b[39mconvolve(df\u001b[38;5;241m.\u001b[39mvalue, np\u001b[38;5;241m.\u001b[39mhanning(\u001b[38;5;28mself\u001b[39m\u001b[38;5;241m.\u001b[39mhanning_size))[:df\u001b[38;5;241m.\u001b[39mshape[\u001b[38;5;241m0\u001b[39m]]\n\u001b[1;32m     63\u001b[0m \u001b[38;5;28;01mif\u001b[39;00m \u001b[38;5;28mself\u001b[39m\u001b[38;5;241m.\u001b[39mreduce_noise:\n\u001b[0;32m---> 64\u001b[0m     df\u001b[38;5;241m.\u001b[39mvalue \u001b[38;5;241m=\u001b[39m \u001b[43mnr\u001b[49m\u001b[38;5;241;43m.\u001b[39;49m\u001b[43mreduce_noise\u001b[49m\u001b[43m(\u001b[49m\u001b[43mdf\u001b[49m\u001b[38;5;241;43m.\u001b[39;49m\u001b[43mvalue\u001b[49m\u001b[43m,\u001b[49m\u001b[43m \u001b[49m\u001b[38;5;28;43mint\u001b[39;49m\u001b[43m(\u001b[49m\u001b[38;5;28;43mself\u001b[39;49m\u001b[38;5;241;43m.\u001b[39;49m\u001b[43mconfig\u001b[49m\u001b[43m[\u001b[49m\u001b[38;5;124;43m'\u001b[39;49m\u001b[38;5;124;43mf_sampling\u001b[39;49m\u001b[38;5;124;43m'\u001b[39;49m\u001b[43m]\u001b[49m\u001b[43m)\u001b[49m\u001b[43m,\u001b[49m\n\u001b[1;32m     65\u001b[0m \u001b[43m                               \u001b[49m\u001b[43mfreq_mask_smooth_hz\u001b[49m\u001b[38;5;241;43m=\u001b[39;49m\u001b[38;5;28;43mself\u001b[39;49m\u001b[38;5;241;43m.\u001b[39;49m\u001b[43mcut_freq_Hz\u001b[49m\u001b[43m)\u001b[49m\n\u001b[1;32m     66\u001b[0m yf, freqs \u001b[38;5;241m=\u001b[39m data\u001b[38;5;241m.\u001b[39mtime_to_freq_transform(df)\n\u001b[1;32m     67\u001b[0m mask \u001b[38;5;241m=\u001b[39m freqs \u001b[38;5;241m<\u001b[39m \u001b[38;5;28mself\u001b[39m\u001b[38;5;241m.\u001b[39mcut_freq_Hz\n",
      "File \u001b[0;32m~/anaconda3/envs/dl/lib/python3.9/site-packages/noisereduce/noisereduce.py:597\u001b[0m, in \u001b[0;36mreduce_noise\u001b[0;34m(y, sr, stationary, y_noise, prop_decrease, time_constant_s, freq_mask_smooth_hz, time_mask_smooth_ms, thresh_n_mult_nonstationary, sigmoid_slope_nonstationary, n_std_thresh_stationary, tmp_folder, chunk_size, padding, n_fft, win_length, hop_length, clip_noise_stationary, use_tqdm, n_jobs)\u001b[0m\n\u001b[1;32m    578\u001b[0m \u001b[38;5;28;01melse\u001b[39;00m:\n\u001b[1;32m    579\u001b[0m     sg \u001b[38;5;241m=\u001b[39m SpectralGateNonStationary(\n\u001b[1;32m    580\u001b[0m         y\u001b[38;5;241m=\u001b[39my, \n\u001b[1;32m    581\u001b[0m         sr\u001b[38;5;241m=\u001b[39msr, \n\u001b[0;32m   (...)\u001b[0m\n\u001b[1;32m    595\u001b[0m         n_jobs \u001b[38;5;241m=\u001b[39m n_jobs\n\u001b[1;32m    596\u001b[0m     )\n\u001b[0;32m--> 597\u001b[0m \u001b[38;5;28;01mreturn\u001b[39;00m \u001b[43msg\u001b[49m\u001b[38;5;241;43m.\u001b[39;49m\u001b[43mget_traces\u001b[49m\u001b[43m(\u001b[49m\u001b[43m)\u001b[49m\n",
      "File \u001b[0;32m~/anaconda3/envs/dl/lib/python3.9/site-packages/noisereduce/noisereduce.py:235\u001b[0m, in \u001b[0;36mSpectralGate.get_traces\u001b[0;34m(self, start_frame, end_frame)\u001b[0m\n\u001b[1;32m    232\u001b[0m             \u001b[38;5;28;01melse\u001b[39;00m:\n\u001b[1;32m    233\u001b[0m                 \u001b[38;5;28;01mreturn\u001b[39;00m filtered_chunk\u001b[38;5;241m.\u001b[39mastype(\u001b[38;5;28mself\u001b[39m\u001b[38;5;241m.\u001b[39m_dtype)\n\u001b[0;32m--> 235\u001b[0m filtered_chunk \u001b[38;5;241m=\u001b[39m \u001b[38;5;28;43mself\u001b[39;49m\u001b[38;5;241;43m.\u001b[39;49m\u001b[43mfilter_chunk\u001b[49m\u001b[43m(\u001b[49m\u001b[43mstart_frame\u001b[49m\u001b[38;5;241;43m=\u001b[39;49m\u001b[38;5;241;43m0\u001b[39;49m\u001b[43m,\u001b[49m\u001b[43m \u001b[49m\u001b[43mend_frame\u001b[49m\u001b[38;5;241;43m=\u001b[39;49m\u001b[43mend_frame\u001b[49m\u001b[43m)\u001b[49m\n\u001b[1;32m    236\u001b[0m \u001b[38;5;28;01mif\u001b[39;00m \u001b[38;5;28mself\u001b[39m\u001b[38;5;241m.\u001b[39mflat:\n\u001b[1;32m    237\u001b[0m     \u001b[38;5;28;01mreturn\u001b[39;00m filtered_chunk\u001b[38;5;241m.\u001b[39mastype(\u001b[38;5;28mself\u001b[39m\u001b[38;5;241m.\u001b[39m_dtype)\u001b[38;5;241m.\u001b[39mflatten()\n",
      "File \u001b[0;32m~/anaconda3/envs/dl/lib/python3.9/site-packages/noisereduce/noisereduce.py:166\u001b[0m, in \u001b[0;36mSpectralGate.filter_chunk\u001b[0;34m(self, start_frame, end_frame)\u001b[0m\n\u001b[1;32m    164\u001b[0m i2 \u001b[38;5;241m=\u001b[39m end_frame \u001b[38;5;241m+\u001b[39m \u001b[38;5;28mself\u001b[39m\u001b[38;5;241m.\u001b[39mpadding\n\u001b[1;32m    165\u001b[0m padded_chunk \u001b[38;5;241m=\u001b[39m \u001b[38;5;28mself\u001b[39m\u001b[38;5;241m.\u001b[39m_read_chunk(i1, i2)\n\u001b[0;32m--> 166\u001b[0m filtered_padded_chunk \u001b[38;5;241m=\u001b[39m \u001b[38;5;28;43mself\u001b[39;49m\u001b[38;5;241;43m.\u001b[39;49m\u001b[43m_do_filter\u001b[49m\u001b[43m(\u001b[49m\u001b[43mpadded_chunk\u001b[49m\u001b[43m)\u001b[49m\n\u001b[1;32m    167\u001b[0m \u001b[38;5;28;01mreturn\u001b[39;00m filtered_padded_chunk[:, start_frame \u001b[38;5;241m-\u001b[39m i1 : end_frame \u001b[38;5;241m-\u001b[39m i1]\n",
      "File \u001b[0;32m~/anaconda3/envs/dl/lib/python3.9/site-packages/noisereduce/noisereduce.py:336\u001b[0m, in \u001b[0;36mSpectralGateNonStationary._do_filter\u001b[0;34m(self, chunk)\u001b[0m\n\u001b[1;32m    334\u001b[0m \u001b[38;5;28;01mdef\u001b[39;00m \u001b[38;5;21m_do_filter\u001b[39m(\u001b[38;5;28mself\u001b[39m, chunk):\n\u001b[1;32m    335\u001b[0m     \u001b[38;5;124;03m\"\"\"Do the actual filtering\"\"\"\u001b[39;00m\n\u001b[0;32m--> 336\u001b[0m     chunk_filtered \u001b[38;5;241m=\u001b[39m \u001b[38;5;28;43mself\u001b[39;49m\u001b[38;5;241;43m.\u001b[39;49m\u001b[43mspectral_gating_nonstationary\u001b[49m\u001b[43m(\u001b[49m\u001b[43mchunk\u001b[49m\u001b[43m)\u001b[49m\n\u001b[1;32m    338\u001b[0m     \u001b[38;5;28;01mreturn\u001b[39;00m chunk_filtered\n",
      "File \u001b[0;32m~/anaconda3/envs/dl/lib/python3.9/site-packages/noisereduce/noisereduce.py:298\u001b[0m, in \u001b[0;36mSpectralGateNonStationary.spectral_gating_nonstationary\u001b[0;34m(self, chunk)\u001b[0m\n\u001b[1;32m    295\u001b[0m abs_sig_stft \u001b[38;5;241m=\u001b[39m np\u001b[38;5;241m.\u001b[39mabs(sig_stft)\n\u001b[1;32m    297\u001b[0m \u001b[38;5;66;03m# get the smoothed mean of the signal\u001b[39;00m\n\u001b[0;32m--> 298\u001b[0m sig_stft_smooth \u001b[38;5;241m=\u001b[39m \u001b[43mget_time_smoothed_representation\u001b[49m\u001b[43m(\u001b[49m\n\u001b[1;32m    299\u001b[0m \u001b[43m    \u001b[49m\u001b[43mabs_sig_stft\u001b[49m\u001b[43m,\u001b[49m\n\u001b[1;32m    300\u001b[0m \u001b[43m    \u001b[49m\u001b[38;5;28;43mself\u001b[39;49m\u001b[38;5;241;43m.\u001b[39;49m\u001b[43msr\u001b[49m\u001b[43m,\u001b[49m\n\u001b[1;32m    301\u001b[0m \u001b[43m    \u001b[49m\u001b[38;5;28;43mself\u001b[39;49m\u001b[38;5;241;43m.\u001b[39;49m\u001b[43m_hop_length\u001b[49m\u001b[43m,\u001b[49m\n\u001b[1;32m    302\u001b[0m \u001b[43m    \u001b[49m\u001b[43mtime_constant_s\u001b[49m\u001b[38;5;241;43m=\u001b[39;49m\u001b[38;5;28;43mself\u001b[39;49m\u001b[38;5;241;43m.\u001b[39;49m\u001b[43m_time_constant_s\u001b[49m\u001b[43m,\u001b[49m\n\u001b[1;32m    303\u001b[0m \u001b[43m\u001b[49m\u001b[43m)\u001b[49m\n\u001b[1;32m    305\u001b[0m \u001b[38;5;66;03m# get the number of X above the mean the signal is\u001b[39;00m\n\u001b[1;32m    306\u001b[0m sig_mult_above_thresh \u001b[38;5;241m=\u001b[39m (abs_sig_stft \u001b[38;5;241m-\u001b[39m sig_stft_smooth) \u001b[38;5;241m/\u001b[39m sig_stft_smooth\n",
      "File \u001b[0;32m~/anaconda3/envs/dl/lib/python3.9/site-packages/noisereduce/noisereduce.py:25\u001b[0m, in \u001b[0;36mget_time_smoothed_representation\u001b[0;34m(spectral, samplerate, hop_length, time_constant_s)\u001b[0m\n\u001b[1;32m     20\u001b[0m \u001b[38;5;66;03m# By default, this solves the equation for b:\u001b[39;00m\n\u001b[1;32m     21\u001b[0m \u001b[38;5;66;03m#   b**2  + (1 - b) / t_frames  - 2 = 0\u001b[39;00m\n\u001b[1;32m     22\u001b[0m \u001b[38;5;66;03m# which approximates the full-width half-max of the\u001b[39;00m\n\u001b[1;32m     23\u001b[0m \u001b[38;5;66;03m# squared frequency response of the IIR low-pass filt\u001b[39;00m\n\u001b[1;32m     24\u001b[0m b \u001b[38;5;241m=\u001b[39m (np\u001b[38;5;241m.\u001b[39msqrt(\u001b[38;5;241m1\u001b[39m \u001b[38;5;241m+\u001b[39m \u001b[38;5;241m4\u001b[39m \u001b[38;5;241m*\u001b[39m t_frames \u001b[38;5;241m*\u001b[39m\u001b[38;5;241m*\u001b[39m \u001b[38;5;241m2\u001b[39m) \u001b[38;5;241m-\u001b[39m \u001b[38;5;241m1\u001b[39m) \u001b[38;5;241m/\u001b[39m (\u001b[38;5;241m2\u001b[39m \u001b[38;5;241m*\u001b[39m t_frames \u001b[38;5;241m*\u001b[39m\u001b[38;5;241m*\u001b[39m \u001b[38;5;241m2\u001b[39m)\n\u001b[0;32m---> 25\u001b[0m \u001b[38;5;28;01mreturn\u001b[39;00m \u001b[43mfiltfilt\u001b[49m\u001b[43m(\u001b[49m\u001b[43m[\u001b[49m\u001b[43mb\u001b[49m\u001b[43m]\u001b[49m\u001b[43m,\u001b[49m\u001b[43m \u001b[49m\u001b[43m[\u001b[49m\u001b[38;5;241;43m1\u001b[39;49m\u001b[43m,\u001b[49m\u001b[43m \u001b[49m\u001b[43mb\u001b[49m\u001b[43m \u001b[49m\u001b[38;5;241;43m-\u001b[39;49m\u001b[43m \u001b[49m\u001b[38;5;241;43m1\u001b[39;49m\u001b[43m]\u001b[49m\u001b[43m,\u001b[49m\u001b[43m \u001b[49m\u001b[43mspectral\u001b[49m\u001b[43m,\u001b[49m\u001b[43m \u001b[49m\u001b[43maxis\u001b[49m\u001b[38;5;241;43m=\u001b[39;49m\u001b[38;5;241;43m-\u001b[39;49m\u001b[38;5;241;43m1\u001b[39;49m\u001b[43m,\u001b[49m\u001b[43m \u001b[49m\u001b[43mpadtype\u001b[49m\u001b[38;5;241;43m=\u001b[39;49m\u001b[38;5;28;43;01mNone\u001b[39;49;00m\u001b[43m)\u001b[49m\n",
      "File \u001b[0;32m~/anaconda3/envs/dl/lib/python3.9/site-packages/scipy/signal/_signaltools.py:4093\u001b[0m, in \u001b[0;36mfiltfilt\u001b[0;34m(b, a, x, axis, padtype, padlen, method, irlen)\u001b[0m\n\u001b[1;32m   4090\u001b[0m \u001b[38;5;66;03m# Backward filter.\u001b[39;00m\n\u001b[1;32m   4091\u001b[0m \u001b[38;5;66;03m# Create y0 so zi*y0 broadcasts appropriately.\u001b[39;00m\n\u001b[1;32m   4092\u001b[0m y0 \u001b[38;5;241m=\u001b[39m axis_slice(y, start\u001b[38;5;241m=\u001b[39m\u001b[38;5;241m-\u001b[39m\u001b[38;5;241m1\u001b[39m, axis\u001b[38;5;241m=\u001b[39maxis)\n\u001b[0;32m-> 4093\u001b[0m (y, zf) \u001b[38;5;241m=\u001b[39m \u001b[43mlfilter\u001b[49m\u001b[43m(\u001b[49m\u001b[43mb\u001b[49m\u001b[43m,\u001b[49m\u001b[43m \u001b[49m\u001b[43ma\u001b[49m\u001b[43m,\u001b[49m\u001b[43m \u001b[49m\u001b[43maxis_reverse\u001b[49m\u001b[43m(\u001b[49m\u001b[43my\u001b[49m\u001b[43m,\u001b[49m\u001b[43m \u001b[49m\u001b[43maxis\u001b[49m\u001b[38;5;241;43m=\u001b[39;49m\u001b[43maxis\u001b[49m\u001b[43m)\u001b[49m\u001b[43m,\u001b[49m\u001b[43m \u001b[49m\u001b[43maxis\u001b[49m\u001b[38;5;241;43m=\u001b[39;49m\u001b[43maxis\u001b[49m\u001b[43m,\u001b[49m\u001b[43m \u001b[49m\u001b[43mzi\u001b[49m\u001b[38;5;241;43m=\u001b[39;49m\u001b[43mzi\u001b[49m\u001b[43m \u001b[49m\u001b[38;5;241;43m*\u001b[39;49m\u001b[43m \u001b[49m\u001b[43my0\u001b[49m\u001b[43m)\u001b[49m\n\u001b[1;32m   4095\u001b[0m \u001b[38;5;66;03m# Reverse y.\u001b[39;00m\n\u001b[1;32m   4096\u001b[0m y \u001b[38;5;241m=\u001b[39m axis_reverse(y, axis\u001b[38;5;241m=\u001b[39maxis)\n",
      "File \u001b[0;32m~/anaconda3/envs/dl/lib/python3.9/site-packages/scipy/signal/_signaltools.py:2071\u001b[0m, in \u001b[0;36mlfilter\u001b[0;34m(b, a, x, axis, zi)\u001b[0m\n\u001b[1;32m   2069\u001b[0m     \u001b[38;5;28;01mreturn\u001b[39;00m _sigtools\u001b[38;5;241m.\u001b[39m_linear_filter(b, a, x, axis)\n\u001b[1;32m   2070\u001b[0m \u001b[38;5;28;01melse\u001b[39;00m:\n\u001b[0;32m-> 2071\u001b[0m     \u001b[38;5;28;01mreturn\u001b[39;00m \u001b[43m_sigtools\u001b[49m\u001b[38;5;241;43m.\u001b[39;49m\u001b[43m_linear_filter\u001b[49m\u001b[43m(\u001b[49m\u001b[43mb\u001b[49m\u001b[43m,\u001b[49m\u001b[43m \u001b[49m\u001b[43ma\u001b[49m\u001b[43m,\u001b[49m\u001b[43m \u001b[49m\u001b[43mx\u001b[49m\u001b[43m,\u001b[49m\u001b[43m \u001b[49m\u001b[43maxis\u001b[49m\u001b[43m,\u001b[49m\u001b[43m \u001b[49m\u001b[43mzi\u001b[49m\u001b[43m)\u001b[49m\n",
      "\u001b[0;31mKeyboardInterrupt\u001b[0m: "
     ]
    }
   ],
   "source": [
    "from torch.optim import RAdam\n",
    "from tqdm.auto import tqdm\n",
    "from torch.nn import functional as F\n",
    "\n",
    "model.train()\n",
    "opt = RAdam(model.parameters(), lr=1e-3)\n",
    "n_epoches = 10000\n",
    "test_freq = 500\n",
    "best_acc = 0\n",
    "tbar = tqdm(range(n_epoches), total=n_epoches, desc='?')\n",
    "for epoch in tbar:\n",
    "    batch_X, y_true, _ = next(iter(train_loader))\n",
    "    batch_X, y_true = [x.float().to(device) for x in [batch_X, y_true]]\n",
    "    y_pred = model(batch_X)\n",
    "    loss = F.cross_entropy(y_pred, y_true.long())\n",
    "    loss.backward()\n",
    "    opt.step()\n",
    "    opt.zero_grad()\n",
    "    if epoch % test_freq == 0:\n",
    "        model.eval()\n",
    "\n",
    "        y_true = []\n",
    "        y_pred = []\n",
    "        n_evaluation_stages = 100\n",
    "        for epoch in range(n_evaluation_stages):\n",
    "            batch_X, y_true_, _ = next(iter(test_loader))\n",
    "            batch_X, y_true_ = [x.float().to(device) for x in [batch_X, y_true_]]\n",
    "            with torch.no_grad():\n",
    "                y_pred_ = model(batch_X)\n",
    "            y_true.append(y_true_.detach().cpu().numpy())\n",
    "            y_pred.append(y_pred_.detach().cpu().numpy())\n",
    "        y_true = np.array(y_true).astype(int).reshape(-1)\n",
    "        y_pred = np.array(y_pred).argmax(-1).reshape(-1)\n",
    "        \n",
    "        test_acc = (y_true == y_pred).mean()\n",
    "        if test_acc > best_acc:\n",
    "            best_acc = test_acc\n",
    "            y_true_best = y_true\n",
    "            y_pred_best = y_pred\n",
    "        model.train()\n",
    "    tbar.set_description(f'Loss: {loss.item(): .3f}\\t Test acc: {test_acc: .3f}\\t Best acc: {best_acc: .3f}')\n",
    "    tbar.update()\n",
    "    "
   ]
  },
  {
   "cell_type": "markdown",
   "id": "ece8710b",
   "metadata": {},
   "source": [
    "# Evaluation"
   ]
  },
  {
   "cell_type": "code",
   "execution_count": 11,
   "id": "63441487",
   "metadata": {},
   "outputs": [
    {
     "data": {
      "image/png": "[encoded data removed]",
      "text/plain": [
       "<Figure size 1224x720 with 2 Axes>"
      ]
     },
     "metadata": {
      "needs_background": "light"
     },
     "output_type": "display_data"
    }
   ],
   "source": [
    "import seaborn as sns\n",
    "from mlxtend.plotting import plot_confusion_matrix\n",
    "from sklearn.metrics import confusion_matrix\n",
    "from collections import Counter\n",
    "import matplotlib.pyplot as plt\n",
    "\n",
    "plt.figure(figsize=(17,10))\n",
    "labels = [name for i, name in enumerate(test_dataset.anomaly_names) if i in y_true]\n",
    "conf_matrix = confusion_matrix(y_true=y_true_best, y_pred=y_pred_best, normalize='all').round(2)\n",
    "\n",
    "ax= plt.subplot()\n",
    "sns.heatmap(conf_matrix, annot=True, fmt='g', ax=ax);  #annot=True to annotate cells, ftm='g' to disable scientific notation\n",
    "\n",
    "# labels, title and ticks\n",
    "ax.set_xlabel('Predicted labels');ax.set_ylabel('True labels'); \n",
    "ax.set_title('Confusion Matrix'); \n",
    "ax.xaxis.set_ticklabels(labels, rotation=90); ax.yaxis.set_ticklabels(labels, rotation=0);\n",
    "plt.tight_layout()"
   ]
  },
  {
   "cell_type": "code",
   "execution_count": 12,
   "id": "c3b03cf0",
   "metadata": {},
   "outputs": [
    {
     "data": {
      "text/plain": [
       "0.9584375"
      ]
     },
     "execution_count": 12,
     "metadata": {},
     "output_type": "execute_result"
    }
   ],
   "source": [
    "(y_true_best==y_pred_best).mean()"
   ]
  },
  {
   "cell_type": "code",
   "execution_count": 35,
   "id": "4903ac5d",
   "metadata": {},
   "outputs": [
    {
     "name": "stdout",
     "output_type": "stream",
     "text": [
      "----------------------------------------------------------------\n",
      "        Layer (type)               Output Shape         Param #\n",
      "================================================================\n",
      "            Conv1d-1              [-1, 16, 396]             656\n",
      "          Softplus-2              [-1, 16, 396]               0\n",
      "       BatchNorm1d-3              [-1, 16, 396]              32\n",
      "            Conv1d-4              [-1, 32, 392]           2,592\n",
      "          Softplus-5              [-1, 32, 392]               0\n",
      "       BatchNorm1d-6              [-1, 32, 392]              64\n",
      "            Conv1d-7              [-1, 64, 388]          10,304\n",
      "          Softplus-8              [-1, 64, 388]               0\n",
      "       BatchNorm1d-9              [-1, 64, 388]             128\n",
      "           Conv1d-10              [-1, 64, 386]          12,352\n",
      "         Softplus-11              [-1, 64, 386]               0\n",
      "AdaptiveAvgPool1d-12                [-1, 64, 1]               0\n",
      "          Reshape-13                   [-1, 64]               0\n",
      "           Linear-14                    [-1, 8]             520\n",
      "================================================================\n",
      "Total params: 26,648\n",
      "Trainable params: 26,648\n",
      "Non-trainable params: 0\n",
      "----------------------------------------------------------------\n",
      "Input size (MB): 0.01\n",
      "Forward/backward pass size (MB): 1.38\n",
      "Params size (MB): 0.10\n",
      "Estimated Total Size (MB): 1.49\n",
      "----------------------------------------------------------------\n"
     ]
    }
   ],
   "source": [
    "from torchsummary import summary\n",
    "summary(model, (8,400))"
   ]
  },
  {
   "cell_type": "code",
   "execution_count": null,
   "id": "a5f08872",
   "metadata": {},
   "outputs": [],
   "source": []
  }
 ],
 "metadata": {
  "kernelspec": {
   "display_name": "Python 3 (ipykernel)",
   "language": "python",
   "name": "python3"
  },
  "language_info": {
   "codemirror_mode": {
    "name": "ipython",
    "version": 3
   },
   "file_extension": ".py",
   "mimetype": "text/x-python",
   "name": "python",
   "nbconvert_exporter": "python",
   "pygments_lexer": "ipython3",
   "version": "3.8.18"
  }
 },
 "nbformat": 4,
 "nbformat_minor": 5
}
